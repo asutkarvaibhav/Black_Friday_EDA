{
 "cells": [
  {
   "cell_type": "code",
   "execution_count": 1,
   "id": "f75ac9d4",
   "metadata": {
    "_cell_guid": "b1076dfc-b9ad-4769-8c92-a6c4dae69d19",
    "_uuid": "8f2839f25d086af736a60e9eeb907d3b93b6e0e5",
    "execution": {
     "iopub.execute_input": "2024-09-23T06:51:04.155488Z",
     "iopub.status.busy": "2024-09-23T06:51:04.154919Z",
     "iopub.status.idle": "2024-09-23T06:51:05.092587Z",
     "shell.execute_reply": "2024-09-23T06:51:05.091182Z"
    },
    "papermill": {
     "duration": 0.955514,
     "end_time": "2024-09-23T06:51:05.095480",
     "exception": false,
     "start_time": "2024-09-23T06:51:04.139966",
     "status": "completed"
    },
    "tags": []
   },
   "outputs": [
    {
     "name": "stdout",
     "output_type": "stream",
     "text": [
      "/kaggle/input/black-friday-sales-eda/train.csv\n"
     ]
    }
   ],
   "source": [
    "# This Python 3 environment comes with many helpful analytics libraries installed\n",
    "# It is defined by the kaggle/python Docker image: https://github.com/kaggle/docker-python\n",
    "# For example, here's several helpful packages to load\n",
    "\n",
    "import numpy as np # linear algebra\n",
    "import pandas as pd # data processing, CSV file I/O (e.g. pd.read_csv)\n",
    "\n",
    "# Input data files are available in the read-only \"../input/\" directory\n",
    "# For example, running this (by clicking run or pressing Shift+Enter) will list all files under the input directory\n",
    "\n",
    "import os\n",
    "for dirname, _, filenames in os.walk('/kaggle/input'):\n",
    "    for filename in filenames:\n",
    "        print(os.path.join(dirname, filename))\n",
    "\n",
    "# You can write up to 20GB to the current directory (/kaggle/working/) that gets preserved as output when you create a version using \"Save & Run All\" \n",
    "# You can also write temporary files to /kaggle/temp/, but they won't be saved outside of the current session"
   ]
  },
  {
   "cell_type": "code",
   "execution_count": 2,
   "id": "f13bc4dc",
   "metadata": {
    "execution": {
     "iopub.execute_input": "2024-09-23T06:51:05.121223Z",
     "iopub.status.busy": "2024-09-23T06:51:05.120608Z",
     "iopub.status.idle": "2024-09-23T06:51:06.980109Z",
     "shell.execute_reply": "2024-09-23T06:51:06.978976Z"
    },
    "papermill": {
     "duration": 1.875401,
     "end_time": "2024-09-23T06:51:06.982866",
     "exception": false,
     "start_time": "2024-09-23T06:51:05.107465",
     "status": "completed"
    },
    "tags": []
   },
   "outputs": [],
   "source": [
    "#import libraries\n",
    "import pandas as pd\n",
    "import numpy as np\n",
    "import matplotlib.pyplot as plt\n",
    "import seaborn as sns"
   ]
  },
  {
   "cell_type": "code",
   "execution_count": 3,
   "id": "928ff8f5",
   "metadata": {
    "execution": {
     "iopub.execute_input": "2024-09-23T06:51:07.008906Z",
     "iopub.status.busy": "2024-09-23T06:51:07.007846Z",
     "iopub.status.idle": "2024-09-23T06:51:08.339237Z",
     "shell.execute_reply": "2024-09-23T06:51:08.338114Z"
    },
    "papermill": {
     "duration": 1.347099,
     "end_time": "2024-09-23T06:51:08.342103",
     "exception": false,
     "start_time": "2024-09-23T06:51:06.995004",
     "status": "completed"
    },
    "tags": []
   },
   "outputs": [],
   "source": [
    "#import dataset\n",
    "df=pd.read_csv('/kaggle/input/black-friday-sales-eda/train.csv')"
   ]
  },
  {
   "cell_type": "code",
   "execution_count": 4,
   "id": "a71fac47",
   "metadata": {
    "execution": {
     "iopub.execute_input": "2024-09-23T06:51:08.368121Z",
     "iopub.status.busy": "2024-09-23T06:51:08.367193Z",
     "iopub.status.idle": "2024-09-23T06:51:08.401981Z",
     "shell.execute_reply": "2024-09-23T06:51:08.400828Z"
    },
    "papermill": {
     "duration": 0.050792,
     "end_time": "2024-09-23T06:51:08.404615",
     "exception": false,
     "start_time": "2024-09-23T06:51:08.353823",
     "status": "completed"
    },
    "tags": []
   },
   "outputs": [
    {
     "data": {
      "text/html": [
       "<div>\n",
       "<style scoped>\n",
       "    .dataframe tbody tr th:only-of-type {\n",
       "        vertical-align: middle;\n",
       "    }\n",
       "\n",
       "    .dataframe tbody tr th {\n",
       "        vertical-align: top;\n",
       "    }\n",
       "\n",
       "    .dataframe thead th {\n",
       "        text-align: right;\n",
       "    }\n",
       "</style>\n",
       "<table border=\"1\" class=\"dataframe\">\n",
       "  <thead>\n",
       "    <tr style=\"text-align: right;\">\n",
       "      <th></th>\n",
       "      <th>User_ID</th>\n",
       "      <th>Product_ID</th>\n",
       "      <th>Gender</th>\n",
       "      <th>Age</th>\n",
       "      <th>Occupation</th>\n",
       "      <th>City_Category</th>\n",
       "      <th>Stay_In_Current_City_Years</th>\n",
       "      <th>Marital_Status</th>\n",
       "      <th>Product_Category_1</th>\n",
       "      <th>Product_Category_2</th>\n",
       "      <th>Product_Category_3</th>\n",
       "      <th>Purchase</th>\n",
       "    </tr>\n",
       "  </thead>\n",
       "  <tbody>\n",
       "    <tr>\n",
       "      <th>0</th>\n",
       "      <td>1000001</td>\n",
       "      <td>P00069042</td>\n",
       "      <td>F</td>\n",
       "      <td>0-17</td>\n",
       "      <td>10</td>\n",
       "      <td>A</td>\n",
       "      <td>2</td>\n",
       "      <td>0</td>\n",
       "      <td>3</td>\n",
       "      <td>NaN</td>\n",
       "      <td>NaN</td>\n",
       "      <td>8370</td>\n",
       "    </tr>\n",
       "    <tr>\n",
       "      <th>1</th>\n",
       "      <td>1000001</td>\n",
       "      <td>P00248942</td>\n",
       "      <td>F</td>\n",
       "      <td>0-17</td>\n",
       "      <td>10</td>\n",
       "      <td>A</td>\n",
       "      <td>2</td>\n",
       "      <td>0</td>\n",
       "      <td>1</td>\n",
       "      <td>6.0</td>\n",
       "      <td>14.0</td>\n",
       "      <td>15200</td>\n",
       "    </tr>\n",
       "    <tr>\n",
       "      <th>2</th>\n",
       "      <td>1000001</td>\n",
       "      <td>P00087842</td>\n",
       "      <td>F</td>\n",
       "      <td>0-17</td>\n",
       "      <td>10</td>\n",
       "      <td>A</td>\n",
       "      <td>2</td>\n",
       "      <td>0</td>\n",
       "      <td>12</td>\n",
       "      <td>NaN</td>\n",
       "      <td>NaN</td>\n",
       "      <td>1422</td>\n",
       "    </tr>\n",
       "    <tr>\n",
       "      <th>3</th>\n",
       "      <td>1000001</td>\n",
       "      <td>P00085442</td>\n",
       "      <td>F</td>\n",
       "      <td>0-17</td>\n",
       "      <td>10</td>\n",
       "      <td>A</td>\n",
       "      <td>2</td>\n",
       "      <td>0</td>\n",
       "      <td>12</td>\n",
       "      <td>14.0</td>\n",
       "      <td>NaN</td>\n",
       "      <td>1057</td>\n",
       "    </tr>\n",
       "    <tr>\n",
       "      <th>4</th>\n",
       "      <td>1000002</td>\n",
       "      <td>P00285442</td>\n",
       "      <td>M</td>\n",
       "      <td>55+</td>\n",
       "      <td>16</td>\n",
       "      <td>C</td>\n",
       "      <td>4+</td>\n",
       "      <td>0</td>\n",
       "      <td>8</td>\n",
       "      <td>NaN</td>\n",
       "      <td>NaN</td>\n",
       "      <td>7969</td>\n",
       "    </tr>\n",
       "  </tbody>\n",
       "</table>\n",
       "</div>"
      ],
      "text/plain": [
       "   User_ID Product_ID Gender   Age  Occupation City_Category  \\\n",
       "0  1000001  P00069042      F  0-17          10             A   \n",
       "1  1000001  P00248942      F  0-17          10             A   \n",
       "2  1000001  P00087842      F  0-17          10             A   \n",
       "3  1000001  P00085442      F  0-17          10             A   \n",
       "4  1000002  P00285442      M   55+          16             C   \n",
       "\n",
       "  Stay_In_Current_City_Years  Marital_Status  Product_Category_1  \\\n",
       "0                          2               0                   3   \n",
       "1                          2               0                   1   \n",
       "2                          2               0                  12   \n",
       "3                          2               0                  12   \n",
       "4                         4+               0                   8   \n",
       "\n",
       "   Product_Category_2  Product_Category_3  Purchase  \n",
       "0                 NaN                 NaN      8370  \n",
       "1                 6.0                14.0     15200  \n",
       "2                 NaN                 NaN      1422  \n",
       "3                14.0                 NaN      1057  \n",
       "4                 NaN                 NaN      7969  "
      ]
     },
     "execution_count": 4,
     "metadata": {},
     "output_type": "execute_result"
    }
   ],
   "source": [
    "df.head()"
   ]
  },
  {
   "cell_type": "code",
   "execution_count": 5,
   "id": "fb14795b",
   "metadata": {
    "execution": {
     "iopub.execute_input": "2024-09-23T06:51:08.437040Z",
     "iopub.status.busy": "2024-09-23T06:51:08.436220Z",
     "iopub.status.idle": "2024-09-23T06:51:08.444936Z",
     "shell.execute_reply": "2024-09-23T06:51:08.443598Z"
    },
    "papermill": {
     "duration": 0.027963,
     "end_time": "2024-09-23T06:51:08.447881",
     "exception": false,
     "start_time": "2024-09-23T06:51:08.419918",
     "status": "completed"
    },
    "tags": []
   },
   "outputs": [
    {
     "data": {
      "text/plain": [
       "(550068, 12)"
      ]
     },
     "execution_count": 5,
     "metadata": {},
     "output_type": "execute_result"
    }
   ],
   "source": [
    "df.shape"
   ]
  },
  {
   "cell_type": "code",
   "execution_count": 6,
   "id": "57cdbe66",
   "metadata": {
    "execution": {
     "iopub.execute_input": "2024-09-23T06:51:08.485667Z",
     "iopub.status.busy": "2024-09-23T06:51:08.485227Z",
     "iopub.status.idle": "2024-09-23T06:51:08.525123Z",
     "shell.execute_reply": "2024-09-23T06:51:08.524089Z"
    },
    "papermill": {
     "duration": 0.062261,
     "end_time": "2024-09-23T06:51:08.527969",
     "exception": false,
     "start_time": "2024-09-23T06:51:08.465708",
     "status": "completed"
    },
    "tags": []
   },
   "outputs": [],
   "source": [
    "#drop unnecessary column\n",
    "df.drop('Product_Category_3',axis=1,inplace=True)"
   ]
  },
  {
   "cell_type": "code",
   "execution_count": 7,
   "id": "d4d707bc",
   "metadata": {
    "execution": {
     "iopub.execute_input": "2024-09-23T06:51:08.554541Z",
     "iopub.status.busy": "2024-09-23T06:51:08.553666Z",
     "iopub.status.idle": "2024-09-23T06:51:08.563396Z",
     "shell.execute_reply": "2024-09-23T06:51:08.561939Z"
    },
    "papermill": {
     "duration": 0.025776,
     "end_time": "2024-09-23T06:51:08.565943",
     "exception": false,
     "start_time": "2024-09-23T06:51:08.540167",
     "status": "completed"
    },
    "tags": []
   },
   "outputs": [
    {
     "data": {
      "text/plain": [
       "User_ID                         int64\n",
       "Product_ID                     object\n",
       "Gender                         object\n",
       "Age                            object\n",
       "Occupation                      int64\n",
       "City_Category                  object\n",
       "Stay_In_Current_City_Years     object\n",
       "Marital_Status                  int64\n",
       "Product_Category_1              int64\n",
       "Product_Category_2            float64\n",
       "Purchase                        int64\n",
       "dtype: object"
      ]
     },
     "execution_count": 7,
     "metadata": {},
     "output_type": "execute_result"
    }
   ],
   "source": [
    "df.dtypes"
   ]
  },
  {
   "cell_type": "code",
   "execution_count": 8,
   "id": "6c10dee1",
   "metadata": {
    "execution": {
     "iopub.execute_input": "2024-09-23T06:51:08.593400Z",
     "iopub.status.busy": "2024-09-23T06:51:08.592954Z",
     "iopub.status.idle": "2024-09-23T06:51:08.948925Z",
     "shell.execute_reply": "2024-09-23T06:51:08.947732Z"
    },
    "papermill": {
     "duration": 0.37305,
     "end_time": "2024-09-23T06:51:08.951661",
     "exception": false,
     "start_time": "2024-09-23T06:51:08.578611",
     "status": "completed"
    },
    "tags": []
   },
   "outputs": [],
   "source": [
    "#drop null values\n",
    "df.dropna(inplace=True)"
   ]
  },
  {
   "cell_type": "code",
   "execution_count": 9,
   "id": "ff144ce0",
   "metadata": {
    "execution": {
     "iopub.execute_input": "2024-09-23T06:51:08.979573Z",
     "iopub.status.busy": "2024-09-23T06:51:08.978530Z",
     "iopub.status.idle": "2024-09-23T06:51:09.190186Z",
     "shell.execute_reply": "2024-09-23T06:51:09.188747Z"
    },
    "papermill": {
     "duration": 0.228671,
     "end_time": "2024-09-23T06:51:09.192995",
     "exception": false,
     "start_time": "2024-09-23T06:51:08.964324",
     "status": "completed"
    },
    "tags": []
   },
   "outputs": [
    {
     "data": {
      "text/plain": [
       "User_ID                       0\n",
       "Product_ID                    0\n",
       "Gender                        0\n",
       "Age                           0\n",
       "Occupation                    0\n",
       "City_Category                 0\n",
       "Stay_In_Current_City_Years    0\n",
       "Marital_Status                0\n",
       "Product_Category_1            0\n",
       "Product_Category_2            0\n",
       "Purchase                      0\n",
       "dtype: int64"
      ]
     },
     "execution_count": 9,
     "metadata": {},
     "output_type": "execute_result"
    }
   ],
   "source": [
    "df.isnull().sum()"
   ]
  },
  {
   "cell_type": "code",
   "execution_count": 10,
   "id": "5850a566",
   "metadata": {
    "execution": {
     "iopub.execute_input": "2024-09-23T06:51:09.221299Z",
     "iopub.status.busy": "2024-09-23T06:51:09.220882Z",
     "iopub.status.idle": "2024-09-23T06:51:09.290154Z",
     "shell.execute_reply": "2024-09-23T06:51:09.288695Z"
    },
    "papermill": {
     "duration": 0.08765,
     "end_time": "2024-09-23T06:51:09.293716",
     "exception": false,
     "start_time": "2024-09-23T06:51:09.206066",
     "status": "completed"
    },
    "tags": []
   },
   "outputs": [
    {
     "name": "stderr",
     "output_type": "stream",
     "text": [
      "/tmp/ipykernel_17/2332592908.py:2: FutureWarning: A value is trying to be set on a copy of a DataFrame or Series through chained assignment using an inplace method.\n",
      "The behavior will change in pandas 3.0. This inplace method will never work because the intermediate object on which we are setting values always behaves as a copy.\n",
      "\n",
      "For example, when doing 'df[col].method(value, inplace=True)', try using 'df.method({col: value}, inplace=True)' or df[col] = df[col].method(value) instead, to perform the operation inplace on the original object.\n",
      "\n",
      "\n",
      "  df['Stay_In_Current_City_Years'].replace('4+','4',inplace=True)\n"
     ]
    }
   ],
   "source": [
    "#replace values\n",
    "df['Stay_In_Current_City_Years'].replace('4+','4',inplace=True)"
   ]
  },
  {
   "cell_type": "code",
   "execution_count": 11,
   "id": "8d9a64f1",
   "metadata": {
    "execution": {
     "iopub.execute_input": "2024-09-23T06:51:09.321513Z",
     "iopub.status.busy": "2024-09-23T06:51:09.321093Z",
     "iopub.status.idle": "2024-09-23T06:51:09.361580Z",
     "shell.execute_reply": "2024-09-23T06:51:09.360346Z"
    },
    "papermill": {
     "duration": 0.057658,
     "end_time": "2024-09-23T06:51:09.364412",
     "exception": false,
     "start_time": "2024-09-23T06:51:09.306754",
     "status": "completed"
    },
    "tags": []
   },
   "outputs": [
    {
     "data": {
      "text/plain": [
       "array(['2', '3', '1', '4', '0'], dtype=object)"
      ]
     },
     "execution_count": 11,
     "metadata": {},
     "output_type": "execute_result"
    }
   ],
   "source": [
    "df.Stay_In_Current_City_Years.unique()"
   ]
  },
  {
   "cell_type": "code",
   "execution_count": 12,
   "id": "572351f5",
   "metadata": {
    "execution": {
     "iopub.execute_input": "2024-09-23T06:51:09.391855Z",
     "iopub.status.busy": "2024-09-23T06:51:09.391434Z",
     "iopub.status.idle": "2024-09-23T06:51:09.450879Z",
     "shell.execute_reply": "2024-09-23T06:51:09.449603Z"
    },
    "papermill": {
     "duration": 0.076227,
     "end_time": "2024-09-23T06:51:09.453555",
     "exception": false,
     "start_time": "2024-09-23T06:51:09.377328",
     "status": "completed"
    },
    "tags": []
   },
   "outputs": [],
   "source": [
    "#change data type\n",
    "df['Stay_In_Current_City_Years']=df['Stay_In_Current_City_Years'].astype(int)"
   ]
  },
  {
   "cell_type": "code",
   "execution_count": 13,
   "id": "7a2a2bd4",
   "metadata": {
    "execution": {
     "iopub.execute_input": "2024-09-23T06:51:09.481126Z",
     "iopub.status.busy": "2024-09-23T06:51:09.480701Z",
     "iopub.status.idle": "2024-09-23T06:51:09.682477Z",
     "shell.execute_reply": "2024-09-23T06:51:09.681054Z"
    },
    "papermill": {
     "duration": 0.218838,
     "end_time": "2024-09-23T06:51:09.685353",
     "exception": false,
     "start_time": "2024-09-23T06:51:09.466515",
     "status": "completed"
    },
    "tags": []
   },
   "outputs": [
    {
     "data": {
      "text/html": [
       "<div>\n",
       "<style scoped>\n",
       "    .dataframe tbody tr th:only-of-type {\n",
       "        vertical-align: middle;\n",
       "    }\n",
       "\n",
       "    .dataframe tbody tr th {\n",
       "        vertical-align: top;\n",
       "    }\n",
       "\n",
       "    .dataframe thead th {\n",
       "        text-align: right;\n",
       "    }\n",
       "</style>\n",
       "<table border=\"1\" class=\"dataframe\">\n",
       "  <thead>\n",
       "    <tr style=\"text-align: right;\">\n",
       "      <th></th>\n",
       "      <th>User_ID</th>\n",
       "      <th>Product_ID</th>\n",
       "      <th>Gender</th>\n",
       "      <th>Age</th>\n",
       "      <th>Occupation</th>\n",
       "      <th>City_Category</th>\n",
       "      <th>Stay_In_Current_City_Years</th>\n",
       "      <th>Marital_Status</th>\n",
       "      <th>Product_Category_1</th>\n",
       "      <th>Product_Category_2</th>\n",
       "      <th>Purchase</th>\n",
       "    </tr>\n",
       "  </thead>\n",
       "  <tbody>\n",
       "  </tbody>\n",
       "</table>\n",
       "</div>"
      ],
      "text/plain": [
       "Empty DataFrame\n",
       "Columns: [User_ID, Product_ID, Gender, Age, Occupation, City_Category, Stay_In_Current_City_Years, Marital_Status, Product_Category_1, Product_Category_2, Purchase]\n",
       "Index: []"
      ]
     },
     "execution_count": 13,
     "metadata": {},
     "output_type": "execute_result"
    }
   ],
   "source": [
    "#check duplicate\n",
    "df[df.duplicated()]"
   ]
  },
  {
   "cell_type": "code",
   "execution_count": 14,
   "id": "4891d18e",
   "metadata": {
    "execution": {
     "iopub.execute_input": "2024-09-23T06:51:09.713853Z",
     "iopub.status.busy": "2024-09-23T06:51:09.713407Z",
     "iopub.status.idle": "2024-09-23T06:51:09.753057Z",
     "shell.execute_reply": "2024-09-23T06:51:09.751708Z"
    },
    "papermill": {
     "duration": 0.05671,
     "end_time": "2024-09-23T06:51:09.755694",
     "exception": false,
     "start_time": "2024-09-23T06:51:09.698984",
     "status": "completed"
    },
    "tags": []
   },
   "outputs": [
    {
     "data": {
      "text/plain": [
       "array(['0-17', '26-35', '46-50', '51-55', '36-45', '18-25', '55+'],\n",
       "      dtype=object)"
      ]
     },
     "execution_count": 14,
     "metadata": {},
     "output_type": "execute_result"
    }
   ],
   "source": [
    "df.Age.unique()"
   ]
  },
  {
   "cell_type": "code",
   "execution_count": 15,
   "id": "d2cfdedd",
   "metadata": {
    "execution": {
     "iopub.execute_input": "2024-09-23T06:51:09.784204Z",
     "iopub.status.busy": "2024-09-23T06:51:09.783793Z",
     "iopub.status.idle": "2024-09-23T06:51:09.796094Z",
     "shell.execute_reply": "2024-09-23T06:51:09.794908Z"
    },
    "papermill": {
     "duration": 0.030147,
     "end_time": "2024-09-23T06:51:09.799249",
     "exception": false,
     "start_time": "2024-09-23T06:51:09.769102",
     "status": "completed"
    },
    "tags": []
   },
   "outputs": [
    {
     "data": {
      "text/plain": [
       "array([10, 15,  7, 20,  9,  1, 12, 17,  0,  3, 16,  4, 11,  8, 19,  2, 18,\n",
       "        5, 14, 13,  6])"
      ]
     },
     "execution_count": 15,
     "metadata": {},
     "output_type": "execute_result"
    }
   ],
   "source": [
    "df.Occupation.unique()"
   ]
  },
  {
   "cell_type": "code",
   "execution_count": 16,
   "id": "418a2895",
   "metadata": {
    "execution": {
     "iopub.execute_input": "2024-09-23T06:51:09.828338Z",
     "iopub.status.busy": "2024-09-23T06:51:09.827916Z",
     "iopub.status.idle": "2024-09-23T06:51:09.866612Z",
     "shell.execute_reply": "2024-09-23T06:51:09.865441Z"
    },
    "papermill": {
     "duration": 0.055854,
     "end_time": "2024-09-23T06:51:09.869212",
     "exception": false,
     "start_time": "2024-09-23T06:51:09.813358",
     "status": "completed"
    },
    "tags": []
   },
   "outputs": [
    {
     "data": {
      "text/plain": [
       "array(['A', 'B', 'C'], dtype=object)"
      ]
     },
     "execution_count": 16,
     "metadata": {},
     "output_type": "execute_result"
    }
   ],
   "source": [
    "df.City_Category.unique()"
   ]
  },
  {
   "cell_type": "code",
   "execution_count": 17,
   "id": "3fe44c00",
   "metadata": {
    "execution": {
     "iopub.execute_input": "2024-09-23T06:51:09.897889Z",
     "iopub.status.busy": "2024-09-23T06:51:09.897395Z",
     "iopub.status.idle": "2024-09-23T06:51:09.907024Z",
     "shell.execute_reply": "2024-09-23T06:51:09.905764Z"
    },
    "papermill": {
     "duration": 0.026776,
     "end_time": "2024-09-23T06:51:09.909435",
     "exception": false,
     "start_time": "2024-09-23T06:51:09.882659",
     "status": "completed"
    },
    "tags": []
   },
   "outputs": [
    {
     "data": {
      "text/plain": [
       "array([0, 1])"
      ]
     },
     "execution_count": 17,
     "metadata": {},
     "output_type": "execute_result"
    }
   ],
   "source": [
    "df.Marital_Status.unique()"
   ]
  },
  {
   "cell_type": "code",
   "execution_count": 18,
   "id": "05ca5689",
   "metadata": {
    "execution": {
     "iopub.execute_input": "2024-09-23T06:51:09.938718Z",
     "iopub.status.busy": "2024-09-23T06:51:09.938247Z",
     "iopub.status.idle": "2024-09-23T06:51:09.984381Z",
     "shell.execute_reply": "2024-09-23T06:51:09.983148Z"
    },
    "papermill": {
     "duration": 0.06417,
     "end_time": "2024-09-23T06:51:09.987254",
     "exception": false,
     "start_time": "2024-09-23T06:51:09.923084",
     "status": "completed"
    },
    "tags": []
   },
   "outputs": [
    {
     "data": {
      "text/plain": [
       "array(['P00248942', 'P00085442', 'P00193542', ..., 'P00350742',\n",
       "       'P00060842', 'P00057842'], dtype=object)"
      ]
     },
     "execution_count": 18,
     "metadata": {},
     "output_type": "execute_result"
    }
   ],
   "source": [
    "df.Product_ID.unique()"
   ]
  },
  {
   "cell_type": "code",
   "execution_count": 19,
   "id": "2101cd50",
   "metadata": {
    "execution": {
     "iopub.execute_input": "2024-09-23T06:51:10.017549Z",
     "iopub.status.busy": "2024-09-23T06:51:10.017127Z",
     "iopub.status.idle": "2024-09-23T06:51:10.048867Z",
     "shell.execute_reply": "2024-09-23T06:51:10.047553Z"
    },
    "papermill": {
     "duration": 0.050384,
     "end_time": "2024-09-23T06:51:10.051886",
     "exception": false,
     "start_time": "2024-09-23T06:51:10.001502",
     "status": "completed"
    },
    "tags": []
   },
   "outputs": [
    {
     "data": {
      "text/html": [
       "<div>\n",
       "<style scoped>\n",
       "    .dataframe tbody tr th:only-of-type {\n",
       "        vertical-align: middle;\n",
       "    }\n",
       "\n",
       "    .dataframe tbody tr th {\n",
       "        vertical-align: top;\n",
       "    }\n",
       "\n",
       "    .dataframe thead th {\n",
       "        text-align: right;\n",
       "    }\n",
       "</style>\n",
       "<table border=\"1\" class=\"dataframe\">\n",
       "  <thead>\n",
       "    <tr style=\"text-align: right;\">\n",
       "      <th></th>\n",
       "      <th>User_ID</th>\n",
       "      <th>Product_ID</th>\n",
       "      <th>Gender</th>\n",
       "      <th>Age</th>\n",
       "      <th>Occupation</th>\n",
       "      <th>City_Category</th>\n",
       "      <th>Stay_In_Current_City_Years</th>\n",
       "      <th>Marital_Status</th>\n",
       "      <th>Product_Category_1</th>\n",
       "      <th>Product_Category_2</th>\n",
       "      <th>Purchase</th>\n",
       "    </tr>\n",
       "  </thead>\n",
       "  <tbody>\n",
       "    <tr>\n",
       "      <th>322992</th>\n",
       "      <td>1001727</td>\n",
       "      <td>P00158242</td>\n",
       "      <td>M</td>\n",
       "      <td>36-45</td>\n",
       "      <td>16</td>\n",
       "      <td>B</td>\n",
       "      <td>2</td>\n",
       "      <td>1</td>\n",
       "      <td>6</td>\n",
       "      <td>8.0</td>\n",
       "      <td>16670</td>\n",
       "    </tr>\n",
       "    <tr>\n",
       "      <th>191807</th>\n",
       "      <td>1005636</td>\n",
       "      <td>P00241542</td>\n",
       "      <td>M</td>\n",
       "      <td>26-35</td>\n",
       "      <td>7</td>\n",
       "      <td>A</td>\n",
       "      <td>0</td>\n",
       "      <td>1</td>\n",
       "      <td>1</td>\n",
       "      <td>6.0</td>\n",
       "      <td>7599</td>\n",
       "    </tr>\n",
       "    <tr>\n",
       "      <th>474018</th>\n",
       "      <td>1001062</td>\n",
       "      <td>P00080342</td>\n",
       "      <td>M</td>\n",
       "      <td>51-55</td>\n",
       "      <td>19</td>\n",
       "      <td>C</td>\n",
       "      <td>3</td>\n",
       "      <td>0</td>\n",
       "      <td>1</td>\n",
       "      <td>6.0</td>\n",
       "      <td>19045</td>\n",
       "    </tr>\n",
       "    <tr>\n",
       "      <th>5920</th>\n",
       "      <td>1000960</td>\n",
       "      <td>P00265242</td>\n",
       "      <td>M</td>\n",
       "      <td>0-17</td>\n",
       "      <td>10</td>\n",
       "      <td>C</td>\n",
       "      <td>4</td>\n",
       "      <td>0</td>\n",
       "      <td>5</td>\n",
       "      <td>8.0</td>\n",
       "      <td>8864</td>\n",
       "    </tr>\n",
       "    <tr>\n",
       "      <th>294118</th>\n",
       "      <td>1003389</td>\n",
       "      <td>P00079742</td>\n",
       "      <td>M</td>\n",
       "      <td>18-25</td>\n",
       "      <td>0</td>\n",
       "      <td>A</td>\n",
       "      <td>0</td>\n",
       "      <td>0</td>\n",
       "      <td>1</td>\n",
       "      <td>2.0</td>\n",
       "      <td>3949</td>\n",
       "    </tr>\n",
       "  </tbody>\n",
       "</table>\n",
       "</div>"
      ],
      "text/plain": [
       "        User_ID Product_ID Gender    Age  Occupation City_Category  \\\n",
       "322992  1001727  P00158242      M  36-45          16             B   \n",
       "191807  1005636  P00241542      M  26-35           7             A   \n",
       "474018  1001062  P00080342      M  51-55          19             C   \n",
       "5920    1000960  P00265242      M   0-17          10             C   \n",
       "294118  1003389  P00079742      M  18-25           0             A   \n",
       "\n",
       "        Stay_In_Current_City_Years  Marital_Status  Product_Category_1  \\\n",
       "322992                           2               1                   6   \n",
       "191807                           0               1                   1   \n",
       "474018                           3               0                   1   \n",
       "5920                             4               0                   5   \n",
       "294118                           0               0                   1   \n",
       "\n",
       "        Product_Category_2  Purchase  \n",
       "322992                 8.0     16670  \n",
       "191807                 6.0      7599  \n",
       "474018                 6.0     19045  \n",
       "5920                   8.0      8864  \n",
       "294118                 2.0      3949  "
      ]
     },
     "execution_count": 19,
     "metadata": {},
     "output_type": "execute_result"
    }
   ],
   "source": [
    "df.sample(5)"
   ]
  },
  {
   "cell_type": "markdown",
   "id": "6ba9036b",
   "metadata": {
    "papermill": {
     "duration": 0.013835,
     "end_time": "2024-09-23T06:51:10.079985",
     "exception": false,
     "start_time": "2024-09-23T06:51:10.066150",
     "status": "completed"
    },
    "tags": []
   },
   "source": [
    "## Visualization:"
   ]
  },
  {
   "cell_type": "code",
   "execution_count": 20,
   "id": "81f0929b",
   "metadata": {
    "execution": {
     "iopub.execute_input": "2024-09-23T06:51:10.110073Z",
     "iopub.status.busy": "2024-09-23T06:51:10.109640Z",
     "iopub.status.idle": "2024-09-23T06:51:10.805738Z",
     "shell.execute_reply": "2024-09-23T06:51:10.804265Z"
    },
    "papermill": {
     "duration": 0.714094,
     "end_time": "2024-09-23T06:51:10.808405",
     "exception": false,
     "start_time": "2024-09-23T06:51:10.094311",
     "status": "completed"
    },
    "tags": []
   },
   "outputs": [
    {
     "data": {
      "text/plain": [
       "<Axes: xlabel='Age', ylabel='count'>"
      ]
     },
     "execution_count": 20,
     "metadata": {},
     "output_type": "execute_result"
    },
    {
     "data": {
      "image/png": "[encoded data removed]",
      "text/plain": [
       "<Figure size 1200x500 with 1 Axes>"
      ]
     },
     "metadata": {},
     "output_type": "display_data"
    }
   ],
   "source": [
    "plt.figure(figsize=(12,5))\n",
    "sns.countplot(data=df,x='Age')"
   ]
  },
  {
   "cell_type": "markdown",
   "id": "65f267e6",
   "metadata": {
    "papermill": {
     "duration": 0.014262,
     "end_time": "2024-09-23T06:51:10.837541",
     "exception": false,
     "start_time": "2024-09-23T06:51:10.823279",
     "status": "completed"
    },
    "tags": []
   },
   "source": [
    "**150000 Customers are in 26-35 age group.**"
   ]
  },
  {
   "cell_type": "code",
   "execution_count": 21,
   "id": "12a04a96",
   "metadata": {
    "execution": {
     "iopub.execute_input": "2024-09-23T06:51:10.868468Z",
     "iopub.status.busy": "2024-09-23T06:51:10.868013Z",
     "iopub.status.idle": "2024-09-23T06:51:11.618613Z",
     "shell.execute_reply": "2024-09-23T06:51:11.617492Z"
    },
    "papermill": {
     "duration": 0.769206,
     "end_time": "2024-09-23T06:51:11.621377",
     "exception": false,
     "start_time": "2024-09-23T06:51:10.852171",
     "status": "completed"
    },
    "tags": []
   },
   "outputs": [
    {
     "data": {
      "text/plain": [
       "<Axes: xlabel='Gender', ylabel='count'>"
      ]
     },
     "execution_count": 21,
     "metadata": {},
     "output_type": "execute_result"
    },
    {
     "data": {
      "image/png": "[encoded data removed]",
      "text/plain": [
       "<Figure size 640x480 with 1 Axes>"
      ]
     },
     "metadata": {},
     "output_type": "display_data"
    }
   ],
   "source": [
    "sns.countplot(data=df,x='Gender',hue='Marital_Status')"
   ]
  },
  {
   "cell_type": "markdown",
   "id": "8f7f41d8",
   "metadata": {
    "papermill": {
     "duration": 0.016116,
     "end_time": "2024-09-23T06:51:11.653862",
     "exception": false,
     "start_time": "2024-09-23T06:51:11.637746",
     "status": "completed"
    },
    "tags": []
   },
   "source": [
    "**From above graph, 170000 are unmarried males customers.**"
   ]
  },
  {
   "cell_type": "code",
   "execution_count": 22,
   "id": "f633a0c0",
   "metadata": {
    "execution": {
     "iopub.execute_input": "2024-09-23T06:51:11.688591Z",
     "iopub.status.busy": "2024-09-23T06:51:11.688164Z",
     "iopub.status.idle": "2024-09-23T06:51:12.384658Z",
     "shell.execute_reply": "2024-09-23T06:51:12.383369Z"
    },
    "papermill": {
     "duration": 0.716821,
     "end_time": "2024-09-23T06:51:12.387635",
     "exception": false,
     "start_time": "2024-09-23T06:51:11.670814",
     "status": "completed"
    },
    "tags": []
   },
   "outputs": [
    {
     "data": {
      "text/plain": [
       "<Axes: xlabel='City_Category', ylabel='count'>"
      ]
     },
     "execution_count": 22,
     "metadata": {},
     "output_type": "execute_result"
    },
    {
     "data": {
      "image/png": "[encoded data removed]",
      "text/plain": [
       "<Figure size 640x480 with 1 Axes>"
      ]
     },
     "metadata": {},
     "output_type": "display_data"
    }
   ],
   "source": [
    "sns.countplot(data=df,x='City_Category')"
   ]
  },
  {
   "cell_type": "markdown",
   "id": "bc0bb014",
   "metadata": {
    "papermill": {
     "duration": 0.015416,
     "end_time": "2024-09-23T06:51:12.419048",
     "exception": false,
     "start_time": "2024-09-23T06:51:12.403632",
     "status": "completed"
    },
    "tags": []
   },
   "source": [
    "**Nearly 155000 customers are from B City**"
   ]
  },
  {
   "cell_type": "code",
   "execution_count": 23,
   "id": "b0862fe5",
   "metadata": {
    "execution": {
     "iopub.execute_input": "2024-09-23T06:51:12.454383Z",
     "iopub.status.busy": "2024-09-23T06:51:12.453944Z",
     "iopub.status.idle": "2024-09-23T06:51:12.879307Z",
     "shell.execute_reply": "2024-09-23T06:51:12.877955Z"
    },
    "papermill": {
     "duration": 0.446474,
     "end_time": "2024-09-23T06:51:12.882433",
     "exception": false,
     "start_time": "2024-09-23T06:51:12.435959",
     "status": "completed"
    },
    "tags": []
   },
   "outputs": [
    {
     "data": {
      "text/plain": [
       "<Axes: xlabel='Product_Category_1', ylabel='count'>"
      ]
     },
     "execution_count": 23,
     "metadata": {},
     "output_type": "execute_result"
    },
    {
     "data": {
      "image/png": "[encoded data removed]",
      "text/plain": [
       "<Figure size 1200x500 with 1 Axes>"
      ]
     },
     "metadata": {},
     "output_type": "display_data"
    }
   ],
   "source": [
    "plt.figure(figsize=(12,5))\n",
    "sns.countplot(data=df,x='Product_Category_1')"
   ]
  },
  {
   "cell_type": "markdown",
   "id": "6de182c4",
   "metadata": {
    "execution": {
     "iopub.execute_input": "2024-09-23T05:53:58.324918Z",
     "iopub.status.busy": "2024-09-23T05:53:58.324433Z",
     "iopub.status.idle": "2024-09-23T05:53:58.332570Z",
     "shell.execute_reply": "2024-09-23T05:53:58.331073Z",
     "shell.execute_reply.started": "2024-09-23T05:53:58.324874Z"
    },
    "papermill": {
     "duration": 0.016486,
     "end_time": "2024-09-23T06:51:12.915937",
     "exception": false,
     "start_time": "2024-09-23T06:51:12.899451",
     "status": "completed"
    },
    "tags": []
   },
   "source": [
    "**From above graph, category1,category5 and category8 are top selling Categories.**"
   ]
  },
  {
   "cell_type": "code",
   "execution_count": 24,
   "id": "ffca5c79",
   "metadata": {
    "execution": {
     "iopub.execute_input": "2024-09-23T06:51:12.953443Z",
     "iopub.status.busy": "2024-09-23T06:51:12.952098Z",
     "iopub.status.idle": "2024-09-23T06:51:16.655308Z",
     "shell.execute_reply": "2024-09-23T06:51:16.654047Z"
    },
    "papermill": {
     "duration": 3.724965,
     "end_time": "2024-09-23T06:51:16.658125",
     "exception": false,
     "start_time": "2024-09-23T06:51:12.933160",
     "status": "completed"
    },
    "tags": []
   },
   "outputs": [
    {
     "data": {
      "text/plain": [
       "<Axes: xlabel='Age', ylabel='Purchase'>"
      ]
     },
     "execution_count": 24,
     "metadata": {},
     "output_type": "execute_result"
    },
    {
     "data": {
      "image/png": "[encoded data removed]",
      "text/plain": [
       "<Figure size 1200x400 with 1 Axes>"
      ]
     },
     "metadata": {},
     "output_type": "display_data"
    }
   ],
   "source": [
    "plt.figure(figsize=(12,4))\n",
    "sns.barplot(data=df,x='Age',y='Purchase')"
   ]
  },
  {
   "cell_type": "markdown",
   "id": "858d845b",
   "metadata": {
    "papermill": {
     "duration": 0.017392,
     "end_time": "2024-09-23T06:51:16.692912",
     "exception": false,
     "start_time": "2024-09-23T06:51:16.675520",
     "status": "completed"
    },
    "tags": []
   },
   "source": [
    "**Approximately all Age_Groups have same purchasing strategy.**"
   ]
  },
  {
   "cell_type": "code",
   "execution_count": 25,
   "id": "919619af",
   "metadata": {
    "execution": {
     "iopub.execute_input": "2024-09-23T06:51:16.730151Z",
     "iopub.status.busy": "2024-09-23T06:51:16.729666Z",
     "iopub.status.idle": "2024-09-23T06:51:19.544089Z",
     "shell.execute_reply": "2024-09-23T06:51:19.542661Z"
    },
    "papermill": {
     "duration": 2.836756,
     "end_time": "2024-09-23T06:51:19.547027",
     "exception": false,
     "start_time": "2024-09-23T06:51:16.710271",
     "status": "completed"
    },
    "tags": []
   },
   "outputs": [
    {
     "data": {
      "text/plain": [
       "<Axes: xlabel='Occupation', ylabel='Purchase'>"
      ]
     },
     "execution_count": 25,
     "metadata": {},
     "output_type": "execute_result"
    },
    {
     "data": {
      "image/png": "[encoded data removed]",
      "text/plain": [
       "<Figure size 1200x400 with 1 Axes>"
      ]
     },
     "metadata": {},
     "output_type": "display_data"
    }
   ],
   "source": [
    "plt.figure(figsize=(12,4))\n",
    "sns.barplot(data=df,x='Occupation',y='Purchase',order=df['Occupation'].value_counts().index[:10])"
   ]
  },
  {
   "cell_type": "markdown",
   "id": "6e6f703b",
   "metadata": {
    "papermill": {
     "duration": 0.017726,
     "end_time": "2024-09-23T06:51:19.582323",
     "exception": false,
     "start_time": "2024-09-23T06:51:19.564597",
     "status": "completed"
    },
    "tags": []
   },
   "source": [
    "**Occupation no.17 and no.12 has greater purchasing strategy.**"
   ]
  },
  {
   "cell_type": "code",
   "execution_count": 26,
   "id": "c969df42",
   "metadata": {
    "execution": {
     "iopub.execute_input": "2024-09-23T06:51:19.618844Z",
     "iopub.status.busy": "2024-09-23T06:51:19.618385Z",
     "iopub.status.idle": "2024-09-23T06:51:23.291136Z",
     "shell.execute_reply": "2024-09-23T06:51:23.289944Z"
    },
    "papermill": {
     "duration": 3.694119,
     "end_time": "2024-09-23T06:51:23.293748",
     "exception": false,
     "start_time": "2024-09-23T06:51:19.599629",
     "status": "completed"
    },
    "tags": []
   },
   "outputs": [
    {
     "data": {
      "text/plain": [
       "<Axes: xlabel='Product_Category_1', ylabel='Purchase'>"
      ]
     },
     "execution_count": 26,
     "metadata": {},
     "output_type": "execute_result"
    },
    {
     "data": {
      "image/png": "[encoded data removed]",
      "text/plain": [
       "<Figure size 1200x400 with 1 Axes>"
      ]
     },
     "metadata": {},
     "output_type": "display_data"
    }
   ],
   "source": [
    "plt.figure(figsize=(12,4))\n",
    "sns.barplot(data=df,x='Product_Category_1',y='Purchase')"
   ]
  },
  {
   "cell_type": "markdown",
   "id": "1c4218be",
   "metadata": {
    "papermill": {
     "duration": 0.017865,
     "end_time": "2024-09-23T06:51:23.330223",
     "exception": false,
     "start_time": "2024-09-23T06:51:23.312358",
     "status": "completed"
    },
    "tags": []
   },
   "source": [
    "**From Product_Category_1 no.10 are highly purchasing category with approximetly 19000.**"
   ]
  },
  {
   "cell_type": "code",
   "execution_count": 27,
   "id": "a6f77b89",
   "metadata": {
    "execution": {
     "iopub.execute_input": "2024-09-23T06:51:23.368217Z",
     "iopub.status.busy": "2024-09-23T06:51:23.367770Z",
     "iopub.status.idle": "2024-09-23T06:51:27.022985Z",
     "shell.execute_reply": "2024-09-23T06:51:27.021543Z"
    },
    "papermill": {
     "duration": 3.677585,
     "end_time": "2024-09-23T06:51:27.025783",
     "exception": false,
     "start_time": "2024-09-23T06:51:23.348198",
     "status": "completed"
    },
    "tags": []
   },
   "outputs": [
    {
     "data": {
      "text/plain": [
       "<Axes: xlabel='Product_Category_2', ylabel='Purchase'>"
      ]
     },
     "execution_count": 27,
     "metadata": {},
     "output_type": "execute_result"
    },
    {
     "data": {
      "image/png": "[encoded data removed]",
      "text/plain": [
       "<Figure size 1200x400 with 1 Axes>"
      ]
     },
     "metadata": {},
     "output_type": "display_data"
    }
   ],
   "source": [
    "plt.figure(figsize=(12,4))\n",
    "sns.barplot(data=df,x='Product_Category_2',y='Purchase')"
   ]
  },
  {
   "cell_type": "markdown",
   "id": "0dd96909",
   "metadata": {
    "papermill": {
     "duration": 0.018937,
     "end_time": "2024-09-23T06:51:27.063774",
     "exception": false,
     "start_time": "2024-09-23T06:51:27.044837",
     "status": "completed"
    },
    "tags": []
   },
   "source": [
    "**From Product_Category_2 no. 10.0 are highly purchasing category with approximetly 15900.**"
   ]
  },
  {
   "cell_type": "code",
   "execution_count": 28,
   "id": "7b5b2804",
   "metadata": {
    "execution": {
     "iopub.execute_input": "2024-09-23T06:51:27.104992Z",
     "iopub.status.busy": "2024-09-23T06:51:27.104551Z",
     "iopub.status.idle": "2024-09-23T06:51:27.389689Z",
     "shell.execute_reply": "2024-09-23T06:51:27.388094Z"
    },
    "papermill": {
     "duration": 0.311014,
     "end_time": "2024-09-23T06:51:27.394129",
     "exception": false,
     "start_time": "2024-09-23T06:51:27.083115",
     "status": "completed"
    },
    "tags": []
   },
   "outputs": [
    {
     "data": {
      "image/png": "[encoded data removed]",
      "text/plain": [
       "<Figure size 640x480 with 1 Axes>"
      ]
     },
     "metadata": {},
     "output_type": "display_data"
    }
   ],
   "source": [
    "plt.pie(df['City_Category'].value_counts(),labels=df['City_Category'].value_counts().values,)\n",
    "plt.legend(['A','B','C'])\n",
    "plt.show()"
   ]
  },
  {
   "cell_type": "markdown",
   "id": "3d8b5a88",
   "metadata": {
    "papermill": {
     "duration": 0.02167,
     "end_time": "2024-09-23T06:51:27.455560",
     "exception": false,
     "start_time": "2024-09-23T06:51:27.433890",
     "status": "completed"
    },
    "tags": []
   },
   "source": [
    "**from above graph City C has highly 157683 customers.**"
   ]
  },
  {
   "cell_type": "code",
   "execution_count": null,
   "id": "f0329ba2",
   "metadata": {
    "papermill": {
     "duration": 0.018682,
     "end_time": "2024-09-23T06:51:27.494154",
     "exception": false,
     "start_time": "2024-09-23T06:51:27.475472",
     "status": "completed"
    },
    "tags": []
   },
   "outputs": [],
   "source": []
  }
 ],
 "metadata": {
  "kaggle": {
   "accelerator": "none",
   "dataSources": [
    {
     "datasetId": 2457185,
     "sourceId": 4163061,
     "sourceType": "datasetVersion"
    }
   ],
   "dockerImageVersionId": 30761,
   "isGpuEnabled": false,
   "isInternetEnabled": false,
   "language": "python",
   "sourceType": "notebook"
  },
  "kernelspec": {
   "display_name": "Python 3",
   "language": "python",
   "name": "python3"
  },
  "language_info": {
   "codemirror_mode": {
    "name": "ipython",
    "version": 3
   },
   "file_extension": ".py",
   "mimetype": "text/x-python",
   "name": "python",
   "nbconvert_exporter": "python",
   "pygments_lexer": "ipython3",
   "version": "3.10.14"
  },
  "papermill": {
   "default_parameters": {},
   "duration": 27.76494,
   "end_time": "2024-09-23T06:51:28.237119",
   "environment_variables": {},
   "exception": null,
   "input_path": "__notebook__.ipynb",
   "output_path": "__notebook__.ipynb",
   "parameters": {},
   "start_time": "2024-09-23T06:51:00.472179",
   "version": "2.6.0"
  }
 },
 "nbformat": 4,
 "nbformat_minor": 5
}
